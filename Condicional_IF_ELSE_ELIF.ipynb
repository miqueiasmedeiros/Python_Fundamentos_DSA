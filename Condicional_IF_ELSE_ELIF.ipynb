{
 "cells": [
  {
   "cell_type": "code",
   "execution_count": 8,
   "id": "058bca8f",
   "metadata": {},
   "outputs": [
    {
     "name": "stdout",
     "output_type": "stream",
     "text": [
      "Python Funciona!\n"
     ]
    }
   ],
   "source": [
    "# Condicional If\n",
    "if 5 > 2:\n",
    "    print('Python Funciona!')"
   ]
  },
  {
   "cell_type": "code",
   "execution_count": 9,
   "id": "21e7fc40",
   "metadata": {},
   "outputs": [
    {
     "name": "stdout",
     "output_type": "stream",
     "text": [
      "Algo está errado!\n"
     ]
    }
   ],
   "source": [
    "# Statement If...Else\n",
    "if 5 < 2:\n",
    "    print('Python Funciona!')\n",
    "else:\n",
    "    print('Algo está errado!')"
   ]
  },
  {
   "cell_type": "code",
   "execution_count": 10,
   "id": "cee66097",
   "metadata": {},
   "outputs": [
    {
     "data": {
      "text/plain": [
       "True"
      ]
     },
     "execution_count": 10,
     "metadata": {},
     "output_type": "execute_result"
    }
   ],
   "source": [
    "6 > 3"
   ]
  },
  {
   "cell_type": "code",
   "execution_count": 11,
   "id": "e9c6faef",
   "metadata": {},
   "outputs": [
    {
     "data": {
      "text/plain": [
       "False"
      ]
     },
     "execution_count": 11,
     "metadata": {},
     "output_type": "execute_result"
    }
   ],
   "source": [
    "3 > 7"
   ]
  },
  {
   "cell_type": "code",
   "execution_count": 12,
   "id": "b70db67b",
   "metadata": {},
   "outputs": [
    {
     "data": {
      "text/plain": [
       "True"
      ]
     },
     "execution_count": 12,
     "metadata": {},
     "output_type": "execute_result"
    }
   ],
   "source": [
    "4 >= 4"
   ]
  },
  {
   "cell_type": "code",
   "execution_count": 13,
   "id": "35acea43",
   "metadata": {},
   "outputs": [
    {
     "data": {
      "text/plain": [
       "True"
      ]
     },
     "execution_count": 13,
     "metadata": {},
     "output_type": "execute_result"
    }
   ],
   "source": [
    "4 < 8"
   ]
  },
  {
   "cell_type": "code",
   "execution_count": 14,
   "id": "310fcb9f",
   "metadata": {},
   "outputs": [
    {
     "name": "stdout",
     "output_type": "stream",
     "text": [
      "Testando o python!\n"
     ]
    }
   ],
   "source": [
    "if 9 == 9:\n",
    "    print('Testando o python!')"
   ]
  },
  {
   "cell_type": "code",
   "execution_count": 15,
   "id": "fc05c34e",
   "metadata": {},
   "outputs": [
    {
     "name": "stdout",
     "output_type": "stream",
     "text": [
      "Python Funciona mesmo!\n"
     ]
    }
   ],
   "source": [
    "if True:\n",
    "    print('Python Funciona mesmo!')"
   ]
  },
  {
   "cell_type": "code",
   "execution_count": 16,
   "id": "da179381",
   "metadata": {},
   "outputs": [
    {
     "ename": "SyntaxError",
     "evalue": "invalid syntax (<ipython-input-16-24197103757f>, line 3)",
     "output_type": "error",
     "traceback": [
      "\u001b[1;36m  File \u001b[1;32m\"<ipython-input-16-24197103757f>\"\u001b[1;36m, line \u001b[1;32m3\u001b[0m\n\u001b[1;33m    if 4 > 3\u001b[0m\n\u001b[1;37m            ^\u001b[0m\n\u001b[1;31mSyntaxError\u001b[0m\u001b[1;31m:\u001b[0m invalid syntax\n"
     ]
    }
   ],
   "source": [
    "# Atenção com a sintaxe\n",
    "\n",
    "if 4 > 3\n",
    "    print('Tudo funciona SQN!')"
   ]
  },
  {
   "cell_type": "code",
   "execution_count": 17,
   "id": "5ad514a4",
   "metadata": {},
   "outputs": [
    {
     "ename": "IndentationError",
     "evalue": "expected an indented block (<ipython-input-17-c2db8b15e102>, line 3)",
     "output_type": "error",
     "traceback": [
      "\u001b[1;36m  File \u001b[1;32m\"<ipython-input-17-c2db8b15e102>\"\u001b[1;36m, line \u001b[1;32m3\u001b[0m\n\u001b[1;33m    print('Tudo funcionaria se a indentação estivesse correta')\u001b[0m\n\u001b[1;37m    ^\u001b[0m\n\u001b[1;31mIndentationError\u001b[0m\u001b[1;31m:\u001b[0m expected an indented block\n"
     ]
    }
   ],
   "source": [
    "# Atenção com a sintaxe\n",
    "if 4 > 3:\n",
    "print('Tudo funcionaria se a indentação estivesse correta')"
   ]
  },
  {
   "cell_type": "markdown",
   "id": "167dd9ad",
   "metadata": {},
   "source": [
    "# Condicionais Aninhados"
   ]
  },
  {
   "cell_type": "code",
   "execution_count": 1,
   "id": "7a061b0e",
   "metadata": {},
   "outputs": [
    {
     "name": "stdout",
     "output_type": "stream",
     "text": [
      "Você pode dirigir!\n"
     ]
    }
   ],
   "source": [
    "idade = 18\n",
    "if idade > 17:\n",
    "    print('Você pode dirigir!')"
   ]
  },
  {
   "cell_type": "code",
   "execution_count": 7,
   "id": "d2c52d31",
   "metadata": {},
   "outputs": [
    {
     "name": "stdout",
     "output_type": "stream",
     "text": [
      "Ok Miqueias você esta autorizado a entrar!\n"
     ]
    }
   ],
   "source": [
    "nome = 'Miqueias'\n",
    "if idade > 13:\n",
    "    if nome == 'Miqueias':\n",
    "        print('Ok {} você esta autorizado a entrar!' .format(nome))\n",
    "    else:\n",
    "        print('Desculpe {} , mas você não pode entrar!' .format(nome))\n",
    "    "
   ]
  },
  {
   "cell_type": "code",
   "execution_count": 6,
   "id": "0c2e8723",
   "metadata": {},
   "outputs": [
    {
     "name": "stdout",
     "output_type": "stream",
     "text": [
      "Desculpe Miqueias , mas você não pode entrar!\n"
     ]
    }
   ],
   "source": [
    "nome = 'Miqueias'\n",
    "if idade > 19:\n",
    "    print('Ok {} você esta autorizado a entrar!' .format(nome))\n",
    "else:\n",
    "    print('Desculpe {} , mas você não pode entrar!' .format(nome))\n",
    "    "
   ]
  },
  {
   "cell_type": "code",
   "execution_count": 21,
   "id": "204acbb6",
   "metadata": {},
   "outputs": [
    {
     "name": "stdout",
     "output_type": "stream",
     "text": [
      "Ok Miqueias, você esta autorizado a entrar!\n"
     ]
    }
   ],
   "source": [
    "idade = 13\n",
    "nome = 'Miqueias'\n",
    "if idade >= 13 and nome == 'Miqueias':\n",
    "    print('Ok {}, você esta autorizado a entrar!' .format(nome))"
   ]
  },
  {
   "cell_type": "code",
   "execution_count": 20,
   "id": "a058f19d",
   "metadata": {},
   "outputs": [
    {
     "name": "stdout",
     "output_type": "stream",
     "text": [
      "Ok Miqueias você esta autorizado a entrar!\n"
     ]
    }
   ],
   "source": [
    "idade = 12\n",
    "nome = 'Miqueias'\n",
    "if (idade >= 13 or (nome == 'Miqueias')):\n",
    "    print('Ok {} você esta autorizado a entrar!' .format(nome))"
   ]
  },
  {
   "cell_type": "markdown",
   "id": "c22f16a9",
   "metadata": {},
   "source": [
    "# Elif"
   ]
  },
  {
   "cell_type": "code",
   "execution_count": null,
   "id": "256a88d0",
   "metadata": {},
   "outputs": [],
   "source": []
  }
 ],
 "metadata": {
  "kernelspec": {
   "display_name": "Python 3",
   "language": "python",
   "name": "python3"
  },
  "language_info": {
   "codemirror_mode": {
    "name": "ipython",
    "version": 3
   },
   "file_extension": ".py",
   "mimetype": "text/x-python",
   "name": "python",
   "nbconvert_exporter": "python",
   "pygments_lexer": "ipython3",
   "version": "3.8.8"
  }
 },
 "nbformat": 4,
 "nbformat_minor": 5
}
